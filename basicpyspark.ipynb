{
  "nbformat": 4,
  "nbformat_minor": 0,
  "metadata": {
    "colab": {
      "provenance": [],
      "mount_file_id": "1D7UKMeijVNsSWe-RlH9gvIkfKt_4r7Sk",
      "authorship_tag": "ABX9TyMefW70wxPjAgnlynZpsefU",
      "include_colab_link": true
    },
    "kernelspec": {
      "name": "python3",
      "display_name": "Python 3"
    },
    "language_info": {
      "name": "python"
    }
  },
  "cells": [
    {
      "cell_type": "markdown",
      "metadata": {
        "id": "view-in-github",
        "colab_type": "text"
      },
      "source": [
        "<a href=\"https://colab.research.google.com/github/ritik-hue/pyspark/blob/main/basicpyspark.ipynb\" target=\"_parent\"><img src=\"https://colab.research.google.com/assets/colab-badge.svg\" alt=\"Open In Colab\"/></a>"
      ]
    },
    {
      "cell_type": "code",
      "execution_count": 1,
      "metadata": {
        "colab": {
          "base_uri": "https://localhost:8080/"
        },
        "id": "9FTcN1aStKZW",
        "outputId": "26556e3f-40ca-45e0-a40f-ae995417c37a"
      },
      "outputs": [
        {
          "output_type": "stream",
          "name": "stdout",
          "text": [
            "Collecting pyspark\n",
            "  Downloading pyspark-3.4.1.tar.gz (310.8 MB)\n",
            "\u001b[2K     \u001b[90m━━━━━━━━━━━━━━━━━━━━━━━━━━━━━━━━━━━━━━━\u001b[0m \u001b[32m310.8/310.8 MB\u001b[0m \u001b[31m3.9 MB/s\u001b[0m eta \u001b[36m0:00:00\u001b[0m\n",
            "\u001b[?25h  Preparing metadata (setup.py) ... \u001b[?25l\u001b[?25hdone\n",
            "Requirement already satisfied: py4j==0.10.9.7 in /usr/local/lib/python3.10/dist-packages (from pyspark) (0.10.9.7)\n",
            "Building wheels for collected packages: pyspark\n",
            "  Building wheel for pyspark (setup.py) ... \u001b[?25l\u001b[?25hdone\n",
            "  Created wheel for pyspark: filename=pyspark-3.4.1-py2.py3-none-any.whl size=311285387 sha256=f4c56b8610493774ab890078c14ec58d7e4d9db74de1a698e50517067332c56a\n",
            "  Stored in directory: /root/.cache/pip/wheels/0d/77/a3/ff2f74cc9ab41f8f594dabf0579c2a7c6de920d584206e0834\n",
            "Successfully built pyspark\n",
            "Installing collected packages: pyspark\n",
            "Successfully installed pyspark-3.4.1\n"
          ]
        }
      ],
      "source": [
        "pip install pyspark"
      ]
    },
    {
      "cell_type": "code",
      "source": [
        "import pyspark"
      ],
      "metadata": {
        "id": "tuhwRYXXtPnj"
      },
      "execution_count": 2,
      "outputs": []
    },
    {
      "cell_type": "code",
      "source": [
        "import pandas as pd\n",
        "df=pd.read_excel('/content/drive/MyDrive/Data_Train.xlsx')\n",
        "from pyspark.sql import SparkSession"
      ],
      "metadata": {
        "id": "VLbolmOUtqL2"
      },
      "execution_count": 3,
      "outputs": []
    },
    {
      "cell_type": "code",
      "source": [
        "spark=SparkSession.builder.appName('Practise').getOrCreate()"
      ],
      "metadata": {
        "id": "d7CUkmI4veqB"
      },
      "execution_count": 4,
      "outputs": []
    },
    {
      "cell_type": "code",
      "source": [
        "spark"
      ],
      "metadata": {
        "colab": {
          "base_uri": "https://localhost:8080/",
          "height": 219
        },
        "id": "ZSIENJzgv3DM",
        "outputId": "8ec0424e-ff18-4764-a314-bae03cd4f91b"
      },
      "execution_count": 5,
      "outputs": [
        {
          "output_type": "execute_result",
          "data": {
            "text/plain": [
              "<pyspark.sql.session.SparkSession at 0x78fdfcdaab90>"
            ],
            "text/html": [
              "\n",
              "            <div>\n",
              "                <p><b>SparkSession - in-memory</b></p>\n",
              "                \n",
              "        <div>\n",
              "            <p><b>SparkContext</b></p>\n",
              "\n",
              "            <p><a href=\"http://83755dd40ef3:4040\">Spark UI</a></p>\n",
              "\n",
              "            <dl>\n",
              "              <dt>Version</dt>\n",
              "                <dd><code>v3.4.1</code></dd>\n",
              "              <dt>Master</dt>\n",
              "                <dd><code>local[*]</code></dd>\n",
              "              <dt>AppName</dt>\n",
              "                <dd><code>Practise</code></dd>\n",
              "            </dl>\n",
              "        </div>\n",
              "        \n",
              "            </div>\n",
              "        "
            ]
          },
          "metadata": {},
          "execution_count": 5
        }
      ]
    },
    {
      "cell_type": "code",
      "source": [
        "df_pyspark=spark.read.csv('/content/drive/MyDrive/Weather_Data.csv')\n"
      ],
      "metadata": {
        "id": "mlNQAglywJ52"
      },
      "execution_count": 6,
      "outputs": []
    },
    {
      "cell_type": "code",
      "source": [
        "df_pyspark.show()"
      ],
      "metadata": {
        "colab": {
          "base_uri": "https://localhost:8080/"
        },
        "id": "3w3prT0bwivr",
        "outputId": "076f881a-e685-4227-d60a-3b6971825ad2"
      },
      "execution_count": 7,
      "outputs": [
        {
          "output_type": "stream",
          "name": "stdout",
          "text": [
            "+---------+-------+-------+--------+-----------+--------+-----------+-------------+----------+----------+------------+------------+-----------+-----------+-----------+-----------+--------+--------+-------+-------+---------+------------+\n",
            "|      _c0|    _c1|    _c2|     _c3|        _c4|     _c5|        _c6|          _c7|       _c8|       _c9|        _c10|        _c11|       _c12|       _c13|       _c14|       _c15|    _c16|    _c17|   _c18|   _c19|     _c20|        _c21|\n",
            "+---------+-------+-------+--------+-----------+--------+-----------+-------------+----------+----------+------------+------------+-----------+-----------+-----------+-----------+--------+--------+-------+-------+---------+------------+\n",
            "|     Date|MinTemp|MaxTemp|Rainfall|Evaporation|Sunshine|WindGustDir|WindGustSpeed|WindDir9am|WindDir3pm|WindSpeed9am|WindSpeed3pm|Humidity9am|Humidity3pm|Pressure9am|Pressure3pm|Cloud9am|Cloud3pm|Temp9am|Temp3pm|RainToday|RainTomorrow|\n",
            "| 2/1/2008|   19.5|   22.4|    15.6|        6.2|       0|          W|           41|         S|       SSW|          17|          20|         92|         84|     1017.6|     1017.4|       8|       8|   20.7|   20.9|      Yes|         Yes|\n",
            "| 2/2/2008|   19.5|   25.6|       6|        3.4|     2.7|          W|           41|         W|         E|           9|          13|         83|         73|     1017.9|     1016.4|       7|       7|   22.4|   24.8|      Yes|         Yes|\n",
            "| 2/3/2008|   21.6|   24.5|     6.6|        2.4|     0.1|          W|           41|       ESE|       ESE|          17|           2|         88|         86|     1016.7|     1015.6|       7|       8|   23.5|     23|      Yes|         Yes|\n",
            "| 2/4/2008|   20.2|   22.8|    18.8|        2.2|       0|          W|           41|       NNE|         E|          22|          20|         83|         90|     1014.2|     1011.8|       8|       8|   21.4|   20.9|      Yes|         Yes|\n",
            "| 2/5/2008|   19.7|   25.7|    77.4|        4.8|       0|          W|           41|       NNE|         W|          11|           6|         88|         74|     1008.3|     1004.8|       8|       8|   22.5|   25.5|      Yes|         Yes|\n",
            "| 2/6/2008|   20.2|   27.2|     1.6|        2.6|     8.6|          W|           41|         W|       ENE|           9|          22|         69|         62|     1002.7|      998.6|       6|       6|   23.8|     26|      Yes|         Yes|\n",
            "| 2/7/2008|   18.6|   26.3|     6.2|        5.2|     5.2|          W|           41|         W|         S|          15|          15|         75|         80|        999|     1000.3|       4|       7|   21.7|   22.3|      Yes|         Yes|\n",
            "| 2/8/2008|   17.2|   22.3|    27.6|        5.8|     2.1|          W|           41|         S|        SE|           7|          15|         77|         61|     1008.3|     1007.4|       7|       8|   18.9|   21.1|      Yes|         Yes|\n",
            "| 2/9/2008|   16.4|   20.8|    12.6|        4.8|       3|          W|           41|       SSW|         W|          19|           9|         92|         91|     1006.4|     1007.6|       7|       7|   17.1|   16.5|      Yes|         Yes|\n",
            "|2/10/2008|   14.6|   24.2|     8.8|        4.4|    10.1|          W|           41|         W|       SSE|          11|          20|         80|         53|       1014|     1013.4|       4|       2|   17.2|   23.3|      Yes|          No|\n",
            "|2/11/2008|   16.4|   23.9|       0|        6.4|       8|          W|           41|       WNW|         E|           9|          26|         78|         53|     1017.6|     1015.3|       7|       8|   18.9|   23.7|       No|          No|\n",
            "|2/12/2008|   18.9|   27.3|       0|        6.8|     6.7|          W|           41|         N|        NE|           7|          24|         68|         67|     1010.7|     1007.5|       7|       7|   22.9|   24.7|       No|         Yes|\n",
            "|2/13/2008|   18.4|   22.8|    14.4|          7|     3.3|          W|           41|         S|         S|          24|          30|         87|         70|     1009.2|     1011.7|       8|       7|   20.9|     21|      Yes|         Yes|\n",
            "|2/14/2008|   16.9|   24.3|       3|        3.2|     8.7|          W|           41|       SSW|       SSE|          15|          19|         81|         51|     1017.2|     1016.5|       7|       1|   18.4|   23.3|      Yes|          No|\n",
            "|2/15/2008|   18.3|   24.4|       0|        6.2|     8.5|          W|           41|        SW|       SSE|          19|          22|         80|         56|     1020.2|     1018.9|       7|       3|   19.5|   23.8|       No|          No|\n",
            "|2/16/2008|   16.7|   24.1|       0|        6.2|     8.8|          W|           41|       WNW|       SSE|          11|          26|         77|         52|       1023|     1022.6|       7|       6|   19.8|   23.3|       No|          No|\n",
            "|2/17/2008|   19.5|   24.8|       0|        7.6|     3.2|          W|           41|        SE|       ESE|          13|          24|         63|         62|     1024.7|     1023.1|       7|       7|   21.8|   23.4|       No|          No|\n",
            "|2/18/2008|   18.6|   25.3|       0|        4.2|     4.5|          W|           41|       SSE|       ENE|          13|          24|         70|         59|     1021.7|     1019.4|       7|       6|   21.2|   23.8|       No|          No|\n",
            "|2/19/2008|     19|   24.8|       0|        5.2|     7.5|          W|           41|       WNW|         E|           7|          17|         79|         65|       1018|     1015.4|       7|       7|   20.8|   23.4|       No|          No|\n",
            "+---------+-------+-------+--------+-----------+--------+-----------+-------------+----------+----------+------------+------------+-----------+-----------+-----------+-----------+--------+--------+-------+-------+---------+------------+\n",
            "only showing top 20 rows\n",
            "\n"
          ]
        }
      ]
    },
    {
      "cell_type": "code",
      "source": [
        "df_pyspark=spark.read.option('header','true').csv('/content/drive/MyDrive/Weather_Data.csv')\n"
      ],
      "metadata": {
        "id": "bxFpLU14wt82"
      },
      "execution_count": 10,
      "outputs": []
    },
    {
      "cell_type": "code",
      "source": [
        "df_pyspark.printSchema()\n"
      ],
      "metadata": {
        "colab": {
          "base_uri": "https://localhost:8080/"
        },
        "id": "16yJiWWLxJtL",
        "outputId": "3c45ee73-36ca-453b-ff26-588643b57311"
      },
      "execution_count": 11,
      "outputs": [
        {
          "output_type": "stream",
          "name": "stdout",
          "text": [
            "root\n",
            " |-- Date: string (nullable = true)\n",
            " |-- MinTemp: string (nullable = true)\n",
            " |-- MaxTemp: string (nullable = true)\n",
            " |-- Rainfall: string (nullable = true)\n",
            " |-- Evaporation: string (nullable = true)\n",
            " |-- Sunshine: string (nullable = true)\n",
            " |-- WindGustDir: string (nullable = true)\n",
            " |-- WindGustSpeed: string (nullable = true)\n",
            " |-- WindDir9am: string (nullable = true)\n",
            " |-- WindDir3pm: string (nullable = true)\n",
            " |-- WindSpeed9am: string (nullable = true)\n",
            " |-- WindSpeed3pm: string (nullable = true)\n",
            " |-- Humidity9am: string (nullable = true)\n",
            " |-- Humidity3pm: string (nullable = true)\n",
            " |-- Pressure9am: string (nullable = true)\n",
            " |-- Pressure3pm: string (nullable = true)\n",
            " |-- Cloud9am: string (nullable = true)\n",
            " |-- Cloud3pm: string (nullable = true)\n",
            " |-- Temp9am: string (nullable = true)\n",
            " |-- Temp3pm: string (nullable = true)\n",
            " |-- RainToday: string (nullable = true)\n",
            " |-- RainTomorrow: string (nullable = true)\n",
            "\n"
          ]
        }
      ]
    }
  ]
}