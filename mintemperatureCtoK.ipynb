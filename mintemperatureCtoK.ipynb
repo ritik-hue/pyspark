{
  "nbformat": 4,
  "nbformat_minor": 0,
  "metadata": {
    "colab": {
      "provenance": [],
      "authorship_tag": "ABX9TyN/hKrQb385PcwUriyeNUS3",
      "include_colab_link": true
    },
    "kernelspec": {
      "name": "python3",
      "display_name": "Python 3"
    },
    "language_info": {
      "name": "python"
    }
  },
  "cells": [
    {
      "cell_type": "markdown",
      "metadata": {
        "id": "view-in-github",
        "colab_type": "text"
      },
      "source": [
        "<a href=\"https://colab.research.google.com/github/ritik-hue/pyspark/blob/main/mintemperatureCtoK.ipynb\" target=\"_parent\"><img src=\"https://colab.research.google.com/assets/colab-badge.svg\" alt=\"Open In Colab\"/></a>"
      ]
    },
    {
      "cell_type": "code",
      "execution_count": 3,
      "metadata": {
        "id": "Lyvxn1_XMrx7"
      },
      "outputs": [],
      "source": [
        "from pyspark import SparkConf,SparkContext"
      ]
    },
    {
      "cell_type": "code",
      "source": [
        "pip install pyspark"
      ],
      "metadata": {
        "colab": {
          "base_uri": "https://localhost:8080/"
        },
        "id": "8pmPsIRdM-8F",
        "outputId": "21ac2929-805c-430a-ccd4-0e94c5c07573"
      },
      "execution_count": 2,
      "outputs": [
        {
          "output_type": "stream",
          "name": "stdout",
          "text": [
            "Collecting pyspark\n",
            "  Downloading pyspark-3.5.0.tar.gz (316.9 MB)\n",
            "\u001b[2K     \u001b[90m━━━━━━━━━━━━━━━━━━━━━━━━━━━━━━━━━━━━━━━━\u001b[0m \u001b[32m316.9/316.9 MB\u001b[0m \u001b[31m4.2 MB/s\u001b[0m eta \u001b[36m0:00:00\u001b[0m\n",
            "\u001b[?25h  Preparing metadata (setup.py) ... \u001b[?25l\u001b[?25hdone\n",
            "Requirement already satisfied: py4j==0.10.9.7 in /usr/local/lib/python3.10/dist-packages (from pyspark) (0.10.9.7)\n",
            "Building wheels for collected packages: pyspark\n",
            "  Building wheel for pyspark (setup.py) ... \u001b[?25l\u001b[?25hdone\n",
            "  Created wheel for pyspark: filename=pyspark-3.5.0-py2.py3-none-any.whl size=317425345 sha256=bec70a076a0ff68fc6932fdd8e0f9202b063f0593fd7440bce3625b3910b1a6b\n",
            "  Stored in directory: /root/.cache/pip/wheels/41/4e/10/c2cf2467f71c678cfc8a6b9ac9241e5e44a01940da8fbb17fc\n",
            "Successfully built pyspark\n",
            "Installing collected packages: pyspark\n",
            "Successfully installed pyspark-3.5.0\n"
          ]
        }
      ]
    },
    {
      "cell_type": "code",
      "source": [
        "conf=SparkConf().setMaster(\"local\").setAppName(\"MinTemperatures\")\n",
        "sc=SparkContext(conf=conf)\n",
        "def ParseLine(line):\n",
        "  fields=line.split(',')\n",
        "  stationID=fields[0]\n",
        "  entryType=fields[2]\n",
        "  temperature=float(fields[3])*0.1*(9.0/5.0)+ 32.0\n",
        "  return(stationID,entryType,temperature)\n",
        ""
      ],
      "metadata": {
        "id": "fjxF-iz8M2Al"
      },
      "execution_count": null,
      "outputs": []
    },
    {
      "cell_type": "code",
      "source": [
        "lines=sc.textFile(\"file address\")\n",
        "parsedlines=lines.map(ParseLine)\n",
        "mintemps=parsedlines.filter(lambda x: \"TMIN\" in x[1])\n",
        "stationtemps=mintemps.map(lambda x:(x[0],x[2]))\n",
        "mintemps=stationtemps.reduceByKey(lambda x,y:min(x,y))\n",
        "results=mintemps.collect()"
      ],
      "metadata": {
        "id": "R-Lh7H5yN5zl"
      },
      "execution_count": null,
      "outputs": []
    },
    {
      "cell_type": "code",
      "source": [
        "for result in results:\n",
        "  print result[0]=\"\\t{:.2f}\".format(result[1])"
      ],
      "metadata": {
        "id": "gLgeX-4FPOe0"
      },
      "execution_count": null,
      "outputs": []
    }
  ]
}