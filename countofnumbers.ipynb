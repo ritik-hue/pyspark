{
  "nbformat": 4,
  "nbformat_minor": 0,
  "metadata": {
    "colab": {
      "provenance": [],
      "authorship_tag": "ABX9TyObjozlQLHxOC3e+AvH7amD",
      "include_colab_link": true
    },
    "kernelspec": {
      "name": "python3",
      "display_name": "Python 3"
    },
    "language_info": {
      "name": "python"
    }
  },
  "cells": [
    {
      "cell_type": "markdown",
      "metadata": {
        "id": "view-in-github",
        "colab_type": "text"
      },
      "source": [
        "<a href=\"https://colab.research.google.com/github/ritik-hue/pyspark/blob/main/countofnumbers.ipynb\" target=\"_parent\"><img src=\"https://colab.research.google.com/assets/colab-badge.svg\" alt=\"Open In Colab\"/></a>"
      ]
    },
    {
      "cell_type": "code",
      "execution_count": null,
      "metadata": {
        "id": "varjvgiiPu09"
      },
      "outputs": [],
      "source": [
        "#count of words\n",
        "from pyspark import SparkConf,SparkContext\n",
        "conf=SparkConf().setMaster(\"local\").setAppName(\"MinTemperatures\")\n",
        "sc=SparkContext(conf=conf)\n",
        "input=sc.textFile(\"file address\")\n",
        "words=input.flatMap(lambda x:x.split())\n",
        "wordcounts=words.countByValue()\n",
        "for word,count in wordCounts.items():\n",
        "  cleanword=word.encode('ascii','ignore')\n",
        "  if(cleanword):\n",
        "    print cleanword,count"
      ]
    },
    {
      "cell_type": "code",
      "source": [
        "#count of words after cleaning data\n",
        "import re\n",
        "from pyspark import SparkConf,SparkContext\n",
        "def normalisewords(text):\n",
        "  return re.compile(r'\\W+',re.UNICODE).split(text.lower())\n",
        "conf=SparkConf().setMaster(\"local\").setAppName(\"MinTemperatures\")\n",
        "sc=SparkContext(conf=conf)\n",
        "input=sc.textFile(\"file address\")\n",
        "words=input.flatMap(normalisewords)\n",
        "wordcounts=words.countByValue()\n",
        "for word,count in wordCounts.items():\n",
        "  cleanword=word.encode('ascii','ignore')\n",
        "  if(cleanword):\n",
        "    print cleanword,count"
      ],
      "metadata": {
        "id": "SVrCtATnRn6h"
      },
      "execution_count": null,
      "outputs": []
    },
    {
      "cell_type": "code",
      "source": [
        "import re\n",
        "from pyspark import SparkConf,SparkContext\n",
        "def normalisewords(text):\n",
        "  return re.compile(r'\\W+',re.UNICODE).split(text.lower())\n",
        "  conf=SparkConf().setMaster(\"local\").setAppName(\"MinTemperatures\")\n",
        "sc=SparkContext(conf=conf)\n",
        "input=sc.textFile(\"file address\")\n",
        "words=input.flatMap(normalisewords)\n",
        "wordCounts=words.map(lambda x:(x,1)).reduceByKey(lambda x,y:x+y)\n",
        "wordCountsSorted=wordCounts.map(lambda (x,y):(y,x)).sortByKey()\n",
        "results=wordCountsSorted.collect()\n",
        "for result in results:\n",
        "  count=str(result[0])\n",
        "  word=result[1].encode('ascii','ignore')\n",
        "  if(word):\n",
        "    print word +\":\\t\\t\" + count"
      ],
      "metadata": {
        "id": "Ws5uXjZCSPgs"
      },
      "execution_count": null,
      "outputs": []
    }
  ]
}