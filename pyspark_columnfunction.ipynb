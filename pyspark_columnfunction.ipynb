{
  "nbformat": 4,
  "nbformat_minor": 0,
  "metadata": {
    "colab": {
      "provenance": [],
      "mount_file_id": "1JSrmw539BE-oRVNKAnCe-4D76omVKMpB",
      "authorship_tag": "ABX9TyMdSagxiklE0/sPO+r5Bokh",
      "include_colab_link": true
    },
    "kernelspec": {
      "name": "python3",
      "display_name": "Python 3"
    },
    "language_info": {
      "name": "python"
    }
  },
  "cells": [
    {
      "cell_type": "markdown",
      "metadata": {
        "id": "view-in-github",
        "colab_type": "text"
      },
      "source": [
        "<a href=\"https://colab.research.google.com/github/ritik-hue/pyspark/blob/main/pyspark_columnfunction.ipynb\" target=\"_parent\"><img src=\"https://colab.research.google.com/assets/colab-badge.svg\" alt=\"Open In Colab\"/></a>"
      ]
    },
    {
      "cell_type": "code",
      "execution_count": 3,
      "metadata": {
        "colab": {
          "base_uri": "https://localhost:8080/"
        },
        "id": "GYOgIPD0x1vf",
        "outputId": "48681a87-d880-47dc-c1bc-5501b95b3b93"
      },
      "outputs": [
        {
          "output_type": "stream",
          "name": "stdout",
          "text": [
            "Collecting pyspark\n",
            "  Downloading pyspark-3.4.1.tar.gz (310.8 MB)\n",
            "\u001b[2K     \u001b[90m━━━━━━━━━━━━━━━━━━━━━━━━━━━━━━━━━━━━━━━\u001b[0m \u001b[32m310.8/310.8 MB\u001b[0m \u001b[31m4.6 MB/s\u001b[0m eta \u001b[36m0:00:00\u001b[0m\n",
            "\u001b[?25h  Preparing metadata (setup.py) ... \u001b[?25l\u001b[?25hdone\n",
            "Requirement already satisfied: py4j==0.10.9.7 in /usr/local/lib/python3.10/dist-packages (from pyspark) (0.10.9.7)\n",
            "Building wheels for collected packages: pyspark\n",
            "  Building wheel for pyspark (setup.py) ... \u001b[?25l\u001b[?25hdone\n",
            "  Created wheel for pyspark: filename=pyspark-3.4.1-py2.py3-none-any.whl size=311285387 sha256=91fdc280ed16533a98efa6e2ab355a3c1bae94a0da2d49205bf0f1c320b1ead8\n",
            "  Stored in directory: /root/.cache/pip/wheels/0d/77/a3/ff2f74cc9ab41f8f594dabf0579c2a7c6de920d584206e0834\n",
            "Successfully built pyspark\n",
            "Installing collected packages: pyspark\n",
            "Successfully installed pyspark-3.4.1\n"
          ]
        }
      ],
      "source": [
        "pip install pyspark\n"
      ]
    },
    {
      "cell_type": "code",
      "source": [
        "from pyspark.sql import SparkSession\n"
      ],
      "metadata": {
        "id": "T7xce6e-yWXe"
      },
      "execution_count": 4,
      "outputs": []
    },
    {
      "cell_type": "code",
      "source": [
        "spark=SparkSession.builder.appName('Dataframe').getOrCreate()\n"
      ],
      "metadata": {
        "id": "WPuThdhwymDE"
      },
      "execution_count": 5,
      "outputs": []
    },
    {
      "cell_type": "code",
      "source": [
        "df_pyspark=spark.read.option('header','true').csv('/content/drive/MyDrive/data_dt.csv',inferSchema=True)\n"
      ],
      "metadata": {
        "id": "6UX2igskyul-"
      },
      "execution_count": 9,
      "outputs": []
    },
    {
      "cell_type": "code",
      "source": [
        "df_pyspark.printSchema"
      ],
      "metadata": {
        "colab": {
          "base_uri": "https://localhost:8080/"
        },
        "id": "85oA0EaVzBXt",
        "outputId": "67955736-5e8d-42fa-84cb-115a3baadf7d"
      },
      "execution_count": 10,
      "outputs": [
        {
          "output_type": "execute_result",
          "data": {
            "text/plain": [
              "<bound method DataFrame.printSchema of DataFrame[Age  : int, Experience: int, Rank: int, Nationality: string, Go: string]>"
            ]
          },
          "metadata": {},
          "execution_count": 10
        }
      ]
    },
    {
      "cell_type": "code",
      "source": [
        "df_pyspark=spark.read.csv('/content/drive/MyDrive/data_dt.csv',header=True,inferSchema=True)\n",
        "df_pyspark.show()\n"
      ],
      "metadata": {
        "colab": {
          "base_uri": "https://localhost:8080/"
        },
        "id": "7eDZGL2lzKAA",
        "outputId": "3b5c4707-f6b8-4a9a-93a9-ee4a7415e0eb"
      },
      "execution_count": 12,
      "outputs": [
        {
          "output_type": "stream",
          "name": "stdout",
          "text": [
            "+-----+----------+----+-----------+---+\n",
            "|Age  |Experience|Rank|Nationality| Go|\n",
            "+-----+----------+----+-----------+---+\n",
            "|   36|        10|   9|         UK| No|\n",
            "|   42|        12|   4|        USA| No|\n",
            "|   23|         4|   6|          N| No|\n",
            "|   52|         4|   4|        USA| No|\n",
            "|   43|        21|   8|        USA|Yes|\n",
            "|   44|        14|   5|         UK| No|\n",
            "|   66|         3|   7|          N|Yes|\n",
            "|   35|        14|   9|         UK|Yes|\n",
            "|   52|        13|   7|          N|Yes|\n",
            "|   35|         5|   9|          N|Yes|\n",
            "|   24|         3|   5|        USA| No|\n",
            "|   18|         3|   7|         UK|Yes|\n",
            "+-----+----------+----+-----------+---+\n",
            "\n"
          ]
        }
      ]
    },
    {
      "cell_type": "code",
      "source": [
        "df_pyspark.head(3)\n"
      ],
      "metadata": {
        "colab": {
          "base_uri": "https://localhost:8080/"
        },
        "id": "VcUhVFPBzznH",
        "outputId": "2071c5e1-c510-421d-931f-5d96ec7c37a8"
      },
      "execution_count": 13,
      "outputs": [
        {
          "output_type": "execute_result",
          "data": {
            "text/plain": [
              "[Row(Age  =36, Experience=10, Rank=9, Nationality='UK', Go='No'),\n",
              " Row(Age  =42, Experience=12, Rank=4, Nationality='USA', Go='No'),\n",
              " Row(Age  =23, Experience=4, Rank=6, Nationality='N', Go='No')]"
            ]
          },
          "metadata": {},
          "execution_count": 13
        }
      ]
    },
    {
      "cell_type": "code",
      "source": [
        "type(df_pyspark)\n"
      ],
      "metadata": {
        "colab": {
          "base_uri": "https://localhost:8080/"
        },
        "id": "VLlnZEPIz_aU",
        "outputId": "3f113b2a-06ff-4703-fe00-a01f4280f43c"
      },
      "execution_count": 14,
      "outputs": [
        {
          "output_type": "execute_result",
          "data": {
            "text/plain": [
              "pyspark.sql.dataframe.DataFrame"
            ]
          },
          "metadata": {},
          "execution_count": 14
        }
      ]
    },
    {
      "cell_type": "code",
      "source": [
        "df_pyspark.select(['Rank','Experience']).show()\n"
      ],
      "metadata": {
        "colab": {
          "base_uri": "https://localhost:8080/"
        },
        "id": "ei8RrBpS0Eam",
        "outputId": "3e785e25-278d-4e81-c5fb-dcfdcd5ff961"
      },
      "execution_count": 17,
      "outputs": [
        {
          "output_type": "stream",
          "name": "stdout",
          "text": [
            "+----+----------+\n",
            "|Rank|Experience|\n",
            "+----+----------+\n",
            "|   9|        10|\n",
            "|   4|        12|\n",
            "|   6|         4|\n",
            "|   4|         4|\n",
            "|   8|        21|\n",
            "|   5|        14|\n",
            "|   7|         3|\n",
            "|   9|        14|\n",
            "|   7|        13|\n",
            "|   9|         5|\n",
            "|   5|         3|\n",
            "|   7|         3|\n",
            "+----+----------+\n",
            "\n"
          ]
        }
      ]
    },
    {
      "cell_type": "code",
      "source": [
        "df_pyspark.dtypes\n"
      ],
      "metadata": {
        "colab": {
          "base_uri": "https://localhost:8080/"
        },
        "id": "v1A1wK3F3zv9",
        "outputId": "6f65bb15-04fa-4e93-daa1-70214e1eca62"
      },
      "execution_count": 18,
      "outputs": [
        {
          "output_type": "execute_result",
          "data": {
            "text/plain": [
              "[('Age  ', 'int'),\n",
              " ('Experience', 'int'),\n",
              " ('Rank', 'int'),\n",
              " ('Nationality', 'string'),\n",
              " ('Go', 'string')]"
            ]
          },
          "metadata": {},
          "execution_count": 18
        }
      ]
    },
    {
      "cell_type": "code",
      "source": [
        "df_pyspark.describe().show()\n"
      ],
      "metadata": {
        "colab": {
          "base_uri": "https://localhost:8080/"
        },
        "id": "eKQFMX7o4L1i",
        "outputId": "3db2dec0-0ac4-42c1-c402-a6519256c1f5"
      },
      "execution_count": 19,
      "outputs": [
        {
          "output_type": "stream",
          "name": "stdout",
          "text": [
            "+-------+------------------+-----------------+------------------+-----------+----+\n",
            "|summary|             Age  |       Experience|              Rank|Nationality|  Go|\n",
            "+-------+------------------+-----------------+------------------+-----------+----+\n",
            "|  count|                12|               12|                12|         12|  12|\n",
            "|   mean|39.166666666666664|8.833333333333334| 6.666666666666667|       null|null|\n",
            "| stddev|13.749931129304104|5.982297116315671|1.8748737331221843|       null|null|\n",
            "|    min|                18|                3|                 4|          N|  No|\n",
            "|    max|                66|               21|                 9|        USA| Yes|\n",
            "+-------+------------------+-----------------+------------------+-----------+----+\n",
            "\n"
          ]
        }
      ]
    },
    {
      "cell_type": "code",
      "source": [
        "df_pyspark=df_pyspark.withColumn('Experience After 2 year',df_pyspark['Experience']+2)\n"
      ],
      "metadata": {
        "id": "hKFeZZag4PlS"
      },
      "execution_count": 20,
      "outputs": []
    },
    {
      "cell_type": "code",
      "source": [
        "df_pyspark.show()"
      ],
      "metadata": {
        "colab": {
          "base_uri": "https://localhost:8080/"
        },
        "id": "X4vNapj-4iZX",
        "outputId": "79e384c5-7ff1-4afe-fc01-ac1b156312c6"
      },
      "execution_count": 21,
      "outputs": [
        {
          "output_type": "stream",
          "name": "stdout",
          "text": [
            "+-----+----------+----+-----------+---+-----------------------+\n",
            "|Age  |Experience|Rank|Nationality| Go|Experience After 2 year|\n",
            "+-----+----------+----+-----------+---+-----------------------+\n",
            "|   36|        10|   9|         UK| No|                     12|\n",
            "|   42|        12|   4|        USA| No|                     14|\n",
            "|   23|         4|   6|          N| No|                      6|\n",
            "|   52|         4|   4|        USA| No|                      6|\n",
            "|   43|        21|   8|        USA|Yes|                     23|\n",
            "|   44|        14|   5|         UK| No|                     16|\n",
            "|   66|         3|   7|          N|Yes|                      5|\n",
            "|   35|        14|   9|         UK|Yes|                     16|\n",
            "|   52|        13|   7|          N|Yes|                     15|\n",
            "|   35|         5|   9|          N|Yes|                      7|\n",
            "|   24|         3|   5|        USA| No|                      5|\n",
            "|   18|         3|   7|         UK|Yes|                      5|\n",
            "+-----+----------+----+-----------+---+-----------------------+\n",
            "\n"
          ]
        }
      ]
    },
    {
      "cell_type": "code",
      "source": [
        "df_pyspark=df_pyspark.drop('Experience After 2 year')\n"
      ],
      "metadata": {
        "id": "THSoil3T4n98"
      },
      "execution_count": 22,
      "outputs": []
    },
    {
      "cell_type": "code",
      "source": [
        "df_pyspark.withColumnRenamed('Age','NEWAGE').show()\n"
      ],
      "metadata": {
        "colab": {
          "base_uri": "https://localhost:8080/"
        },
        "id": "bdTHkVcx5Btb",
        "outputId": "450bbeb4-b625-4ad7-c113-0a3cc63c2791"
      },
      "execution_count": 23,
      "outputs": [
        {
          "output_type": "stream",
          "name": "stdout",
          "text": [
            "+-----+----------+----+-----------+---+\n",
            "|Age  |Experience|Rank|Nationality| Go|\n",
            "+-----+----------+----+-----------+---+\n",
            "|   36|        10|   9|         UK| No|\n",
            "|   42|        12|   4|        USA| No|\n",
            "|   23|         4|   6|          N| No|\n",
            "|   52|         4|   4|        USA| No|\n",
            "|   43|        21|   8|        USA|Yes|\n",
            "|   44|        14|   5|         UK| No|\n",
            "|   66|         3|   7|          N|Yes|\n",
            "|   35|        14|   9|         UK|Yes|\n",
            "|   52|        13|   7|          N|Yes|\n",
            "|   35|         5|   9|          N|Yes|\n",
            "|   24|         3|   5|        USA| No|\n",
            "|   18|         3|   7|         UK|Yes|\n",
            "+-----+----------+----+-----------+---+\n",
            "\n"
          ]
        }
      ]
    }
  ]
}